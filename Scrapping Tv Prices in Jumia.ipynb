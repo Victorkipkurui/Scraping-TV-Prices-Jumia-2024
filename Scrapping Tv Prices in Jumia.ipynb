{
 "cells": [
  {
   "cell_type": "code",
   "execution_count": 55,
   "id": "0e07d56e-3a57-475e-8145-a08757455e72",
   "metadata": {
    "scrolled": true
   },
   "outputs": [],
   "source": [
    "import requests\n",
    "from bs4 import BeautifulSoup\n",
    "import pandas as pd\n",
    "import numpy as np"
   ]
  },
  {
   "cell_type": "code",
   "execution_count": 52,
   "id": "de7329f7-d829-4469-b040-1b8ee646aca7",
   "metadata": {},
   "outputs": [],
   "source": [
    "def get_title(soup):\n",
    "  try:\n",
    "    product_title = soup.find('h1', attrs={'class':'-fs20 -pts -pbxs'}).text.strip()\n",
    "  except AttributeError:\n",
    "      product_title = ''\n",
    "  return product_title\n",
    "\n",
    "def get_price(soup):\n",
    "  try:\n",
    "    product_price = soup.find('span',attrs={'class':\"-b -ubpt -tal -fs24 -prxs\"}).text.strip()\n",
    "  except AttributeError:\n",
    "      product_price = ''\n",
    "  return product_price\n",
    "\n",
    "def get_stars(soup):\n",
    "  try:\n",
    "    product_stars = soup.find('div', attrs={'class':\"stars _m _al\"}).text.strip()\n",
    "  except AttributeError:\n",
    "      product_stars = ''\n",
    "  return product_stars\n",
    "\n",
    "def get_reviews(soup):\n",
    "    try:\n",
    "        review_count = soup.find(\"a\", attrs={'class':\"-plxs _more\"}).string.strip()\n",
    "\n",
    "    except AttributeError:\n",
    "        review_count = \"\"\t\n",
    "\n",
    "    return review_count\n",
    "      "
   ]
  },
  {
   "cell_type": "code",
   "execution_count": 54,
   "id": "abf607a7-819c-4e4e-b0fc-c8d6a478aeac",
   "metadata": {},
   "outputs": [],
   "source": [
    "if __name__ == '__main__':\n",
    "    \n",
    "    URL = \"https://www.jumia.co.ke/televisions/?display_size=55.0--55\"\n",
    "    \n",
    "    webpage = requests.get(URL)\n",
    "\n",
    "    soup = BeautifulSoup(webpage.text, \"html.parser\")\n",
    "\n",
    "    links = soup.find_all(\"a\", attrs={'class':'core'})\n",
    "\n",
    "    links_list = []\n",
    "\n",
    "    for link in links:\n",
    "            links_list.append(link.get('href'))\n",
    "\n",
    "    d = {\"title\":[], \"price\":[], \"stars\":[], \"reviews\":[]}\n",
    "    \n",
    "    for link in links_list:\n",
    "        new_webpage = requests.get(\"https://www.jumia.co.ke\" + link)\n",
    "\n",
    "        new_soup = BeautifulSoup(new_webpage.text, \"html.parser\")\n",
    "\n",
    "        d['title'].append(get_title(new_soup))\n",
    "        d['price'].append(get_price(new_soup))\n",
    "        d['stars'].append(get_stars(new_soup))\n",
    "        d['reviews'].append(get_reviews(new_soup))\n",
    " \n",
    "    jumia_df = pd.DataFrame.from_dict(d)\n",
    "    jumia_df['title'] = jumia_df['title'].replace('', np.nan)\n",
    "    jumia_df = jumia_df.dropna(subset=['title'])\n",
    "    jumia_df.to_csv(\"jumia TV prices 2024.csv\", header=True, index=False)"
   ]
  },
  {
   "cell_type": "code",
   "execution_count": null,
   "id": "c8365f85-9f35-473c-87f5-4635b7248e28",
   "metadata": {},
   "outputs": [],
   "source": []
  }
 ],
 "metadata": {
  "kernelspec": {
   "display_name": "Python 3 (ipykernel)",
   "language": "python",
   "name": "python3"
  },
  "language_info": {
   "codemirror_mode": {
    "name": "ipython",
    "version": 3
   },
   "file_extension": ".py",
   "mimetype": "text/x-python",
   "name": "python",
   "nbconvert_exporter": "python",
   "pygments_lexer": "ipython3",
   "version": "3.12.5"
  }
 },
 "nbformat": 4,
 "nbformat_minor": 5
}
